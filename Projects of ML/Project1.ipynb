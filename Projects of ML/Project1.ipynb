{
 "cells": [
  {
   "cell_type": "code",
   "execution_count": 6,
   "metadata": {
    "scrolled": true
   },
   "outputs": [],
   "source": [
    "import numpy as np\n",
    "import pandas as pd\n",
    "from pandas import DataFrame\n",
    "import matplotlib.pyplot as plt\n",
    "from sklearn.linear_model import LinearRegression\n",
    "from sklearn.metrics import r2_score\n",
    "import statsmodels.api as sm\n",
    "from sklearn.model_selection import train_test_split\n",
    "from sklearn.datasets import make_blobs\n",
    "from scipy.stats import norm\n",
    "from numpy import mean\n",
    "from numpy import std\n",
    "from csv import reader\n",
    "from math import sqrt\n",
    "from math import exp\n",
    "from math import pi"
   ]
  },
  {
   "cell_type": "code",
   "execution_count": 7,
   "metadata": {},
   "outputs": [],
   "source": [
    "df= DataFrame({\"height\":np.random.randint(50,130,100),\n",
    "               \"weight\" :np.random.randint(40,80,100),\n",
    "               \"class\": 'Kids'})\n",
    "df1= DataFrame({\"height\":np.random.randint(120,190,100),\n",
    "               \"weight\" :np.random.randint(70,180,100),\n",
    "                \"class\": 'Adult'})\n",
    "df2= df.append(df1, ignore_index= True)\n",
    "df2.to_csv('data.csv', index = False)\n",
    "data= pd.read_csv('data.csv')"
   ]
  },
  {
   "cell_type": "code",
   "execution_count": 8,
   "metadata": {},
   "outputs": [
    {
     "data": {
      "text/html": [
       "<div>\n",
       "<style scoped>\n",
       "    .dataframe tbody tr th:only-of-type {\n",
       "        vertical-align: middle;\n",
       "    }\n",
       "\n",
       "    .dataframe tbody tr th {\n",
       "        vertical-align: top;\n",
       "    }\n",
       "\n",
       "    .dataframe thead th {\n",
       "        text-align: right;\n",
       "    }\n",
       "</style>\n",
       "<table border=\"1\" class=\"dataframe\">\n",
       "  <thead>\n",
       "    <tr style=\"text-align: right;\">\n",
       "      <th></th>\n",
       "      <th>height</th>\n",
       "      <th>weight</th>\n",
       "    </tr>\n",
       "  </thead>\n",
       "  <tbody>\n",
       "    <tr>\n",
       "      <th>0</th>\n",
       "      <td>86</td>\n",
       "      <td>79</td>\n",
       "    </tr>\n",
       "    <tr>\n",
       "      <th>1</th>\n",
       "      <td>92</td>\n",
       "      <td>79</td>\n",
       "    </tr>\n",
       "    <tr>\n",
       "      <th>2</th>\n",
       "      <td>62</td>\n",
       "      <td>65</td>\n",
       "    </tr>\n",
       "    <tr>\n",
       "      <th>3</th>\n",
       "      <td>122</td>\n",
       "      <td>58</td>\n",
       "    </tr>\n",
       "    <tr>\n",
       "      <th>4</th>\n",
       "      <td>68</td>\n",
       "      <td>51</td>\n",
       "    </tr>\n",
       "    <tr>\n",
       "      <th>...</th>\n",
       "      <td>...</td>\n",
       "      <td>...</td>\n",
       "    </tr>\n",
       "    <tr>\n",
       "      <th>195</th>\n",
       "      <td>172</td>\n",
       "      <td>87</td>\n",
       "    </tr>\n",
       "    <tr>\n",
       "      <th>196</th>\n",
       "      <td>154</td>\n",
       "      <td>85</td>\n",
       "    </tr>\n",
       "    <tr>\n",
       "      <th>197</th>\n",
       "      <td>141</td>\n",
       "      <td>134</td>\n",
       "    </tr>\n",
       "    <tr>\n",
       "      <th>198</th>\n",
       "      <td>120</td>\n",
       "      <td>77</td>\n",
       "    </tr>\n",
       "    <tr>\n",
       "      <th>199</th>\n",
       "      <td>171</td>\n",
       "      <td>123</td>\n",
       "    </tr>\n",
       "  </tbody>\n",
       "</table>\n",
       "<p>200 rows × 2 columns</p>\n",
       "</div>"
      ],
      "text/plain": [
       "     height  weight\n",
       "0        86      79\n",
       "1        92      79\n",
       "2        62      65\n",
       "3       122      58\n",
       "4        68      51\n",
       "..      ...     ...\n",
       "195     172      87\n",
       "196     154      85\n",
       "197     141     134\n",
       "198     120      77\n",
       "199     171     123\n",
       "\n",
       "[200 rows x 2 columns]"
      ]
     },
     "execution_count": 8,
     "metadata": {},
     "output_type": "execute_result"
    }
   ],
   "source": [
    "x=data[['height','weight']]\n",
    "x"
   ]
  },
  {
   "cell_type": "code",
   "execution_count": 9,
   "metadata": {},
   "outputs": [
    {
     "data": {
      "text/plain": [
       "0       Kids\n",
       "1       Kids\n",
       "2       Kids\n",
       "3       Kids\n",
       "4       Kids\n",
       "       ...  \n",
       "195    Adult\n",
       "196    Adult\n",
       "197    Adult\n",
       "198    Adult\n",
       "199    Adult\n",
       "Name: class, Length: 200, dtype: object"
      ]
     },
     "execution_count": 9,
     "metadata": {},
     "output_type": "execute_result"
    }
   ],
   "source": [
    "\n",
    "y= data['class']\n",
    "y\n"
   ]
  },
  {
   "cell_type": "code",
   "execution_count": 10,
   "metadata": {},
   "outputs": [],
   "source": [
    "X0_train,X0_test,y_train,y_test = train_test_split(x,y,test_size=0.2)"
   ]
  },
  {
   "cell_type": "code",
   "execution_count": 11,
   "metadata": {},
   "outputs": [
    {
     "data": {
      "text/plain": [
       "193    Adult\n",
       "149    Adult\n",
       "64      Kids\n",
       "146    Adult\n",
       "100    Adult\n",
       "108    Adult\n",
       "162    Adult\n",
       "35      Kids\n",
       "171    Adult\n",
       "53      Kids\n",
       "150    Adult\n",
       "89      Kids\n",
       "99      Kids\n",
       "78      Kids\n",
       "58      Kids\n",
       "56      Kids\n",
       "196    Adult\n",
       "121    Adult\n",
       "9       Kids\n",
       "47      Kids\n",
       "14      Kids\n",
       "101    Adult\n",
       "82      Kids\n",
       "75      Kids\n",
       "168    Adult\n",
       "126    Adult\n",
       "140    Adult\n",
       "102    Adult\n",
       "45      Kids\n",
       "16      Kids\n",
       "83      Kids\n",
       "13      Kids\n",
       "113    Adult\n",
       "134    Adult\n",
       "26      Kids\n",
       "105    Adult\n",
       "185    Adult\n",
       "116    Adult\n",
       "57      Kids\n",
       "159    Adult\n",
       "Name: class, dtype: object"
      ]
     },
     "execution_count": 11,
     "metadata": {},
     "output_type": "execute_result"
    }
   ],
   "source": [
    "y_test"
   ]
  },
  {
   "cell_type": "code",
   "execution_count": 12,
   "metadata": {},
   "outputs": [
    {
     "name": "stdout",
     "output_type": "stream",
     "text": [
      "\n",
      "X_train:\n",
      "\n",
      "     height  weight\n",
      "161     161      93\n",
      "136     156     155\n",
      "112     134     114\n",
      "119     146     170\n",
      "8       111      72\n",
      "(160, 2)\n",
      "\n",
      "X_test:\n",
      "\n",
      "     height  weight\n",
      "193     140     149\n",
      "149     177     124\n",
      "64       99      76\n",
      "146     145     157\n",
      "100     130      90\n",
      "(40, 2)\n"
     ]
    }
   ],
   "source": [
    "print(\"\\nX_train:\\n\")\n",
    "print(X0_train.head())\n",
    "print(X0_train.shape)\n",
    "\n",
    "print(\"\\nX_test:\\n\")\n",
    "print(X0_test.head())\n",
    "print(X0_test.shape)\n"
   ]
  },
  {
   "cell_type": "code",
   "execution_count": 13,
   "metadata": {},
   "outputs": [
    {
     "name": "stdout",
     "output_type": "stream",
     "text": [
      "\n",
      "y_train:\n",
      "\n",
      "161    Adult\n",
      "136    Adult\n",
      "112    Adult\n",
      "119    Adult\n",
      "8       Kids\n",
      "Name: class, dtype: object\n",
      "(160,)\n",
      "\n",
      "y_test:\n",
      "\n",
      "193    Adult\n",
      "149    Adult\n",
      "64      Kids\n",
      "146    Adult\n",
      "100    Adult\n",
      "Name: class, dtype: object\n",
      "(40,)\n"
     ]
    }
   ],
   "source": [
    "print(\"\\ny_train:\\n\")\n",
    "print(y_train.head())\n",
    "print(y_train.shape)\n",
    "\n",
    "print(\"\\ny_test:\\n\")\n",
    "print(y_test.head())\n",
    "print(y_test.shape)\n"
   ]
  },
  {
   "cell_type": "code",
   "execution_count": 15,
   "metadata": {
    "scrolled": false
   },
   "outputs": [
    {
     "data": {
      "image/png": "[encoded data removed]",
      "text/plain": [
       "<Figure size 1152x576 with 1 Axes>"
      ]
     },
     "metadata": {
      "needs_background": "light"
     },
     "output_type": "display_data"
    }
   ],
   "source": [
    "plt.figure(figsize=(16,8))\n",
    "kids= plt.scatter(\n",
    "    df['height'],\n",
    "    df['weight'],\n",
    "    c='red',\n",
    "    marker='x'\n",
    ")\n",
    "adults=plt.scatter(\n",
    "    df1['height'],\n",
    "    df1['weight'],\n",
    "    c='blue',\n",
    "    marker='*'\n",
    ")\n",
    "plt.xlabel(\"height(h) in cm\")\n",
    "plt.ylabel(\"weight(w) in lb\")\n",
    "plt.legend((kids,adults),\n",
    "           ('Kids', 'Adult'),\n",
    "           scatterpoints=1,\n",
    "           loc='upper left',\n",
    "           ncol=2,\n",
    "           fontsize=20)\n",
    "plt.show()"
   ]
  },
  {
   "cell_type": "code",
   "execution_count": null,
   "metadata": {},
   "outputs": [],
   "source": []
  }
 ],
 "metadata": {
  "kernelspec": {
   "display_name": "Python 3",
   "language": "python",
   "name": "python3"
  },
  "language_info": {
   "codemirror_mode": {
    "name": "ipython",
    "version": 3
   },
   "file_extension": ".py",
   "mimetype": "text/x-python",
   "name": "python",
   "nbconvert_exporter": "python",
   "pygments_lexer": "ipython3",
   "version": "3.7.3"
  }
 },
 "nbformat": 4,
 "nbformat_minor": 4
}
